{
 "cells": [
  {
   "cell_type": "code",
   "execution_count": 1,
   "metadata": {},
   "outputs": [],
   "source": [
    "from datasets import fuzzy_boolean_dataset\n",
    "import torch.nn as nn\n",
    "from models import simple_machine, cls_machine, dini_machine\n",
    "import torch\n",
    "import torch.optim as optim\n",
    "from tqdm import tqdm\n",
    "from sklearn.metrics import r2_score"
   ]
  },
  {
   "cell_type": "code",
   "execution_count": 22,
   "metadata": {},
   "outputs": [
    {
     "data": {
      "text/plain": [
       "['a', 'b', 'a', 'b', 'a', 'b', 'a', 'b', 'a', 'b']"
      ]
     },
     "execution_count": 22,
     "metadata": {},
     "output_type": "execute_result"
    }
   ],
   "source": [
    "[j for i in range(5) for j in 'ab']"
   ]
  },
  {
   "cell_type": "code",
   "execution_count": 27,
   "metadata": {},
   "outputs": [
    {
     "data": {
      "text/plain": [
       "torch.Size([512, 256])"
      ]
     },
     "execution_count": 27,
     "metadata": {},
     "output_type": "execute_result"
    }
   ],
   "source": [
    "x_size = 128\n",
    "hid_size = 256\n",
    "type_size = 300\n",
    "num_hid_layer = 4 \n",
    "type_inference_list = [nn.Linear(x_size, hid_size), nn.ReLU()] +\\\n",
    "        [sublayer for i in range(num_hid_layer) for sublayer in [nn.Linear(hid_size, hid_size), nn.ReLU()]] +\\\n",
    "        [nn.Linear(hid_size, type_size)]\n",
    "m = nn.Sequential(*type_inference_list)\n",
    "x = torch.randn((512, 128))\n",
    "m(x).shape"
   ]
  },
  {
   "cell_type": "code",
   "execution_count": 21,
   "metadata": {},
   "outputs": [],
   "source": [
    "batch_size = 128"
   ]
  },
  {
   "cell_type": "code",
   "execution_count": 22,
   "metadata": {},
   "outputs": [],
   "source": [
    "dataset = fuzzy_boolean_dataset.FuzzyBooleanDataset('data/fbd.npy')\n",
    "train_len = int( 0.8 * len(dataset) ) \n",
    "val_len = len(dataset) - train_len\n",
    "train_set, val_set = torch.utils.data.random_split(dataset, [train_len, val_len])\n",
    "trainloader = torch.utils.data.DataLoader(train_set, batch_size=batch_size, \\\n",
    "    shuffle=True, num_workers=2)\n",
    "valloader = torch.utils.data.DataLoader(val_set, batch_size=batch_size, \\\n",
    "    shuffle=True, num_workers=2)"
   ]
  },
  {
   "cell_type": "code",
   "execution_count": 23,
   "metadata": {},
   "outputs": [],
   "source": [
    "class Model(nn.Module):\n",
    "    def __init__(self):\n",
    "        super().__init__()\n",
    "        #self.backbone = simple_machine.SimpleEncoder(32, 64, 2, 2, 4, 8)\n",
    "        self.backbone = dini_machine.DiniEncoder(32, 8, 1, 4, 5, 8, 8, 0.01, 2, 1, 0.1)\n",
    "        self.cls_net = cls_machine.ClsMachine(self.backbone, 30, 1)\n",
    "        self.reg_head = nn.Linear(32, 1)\n",
    "    \n",
    "    def forward(self, x):\n",
    "        temp = x \n",
    "        temp = self.cls_net(temp)\n",
    "        temp = self.reg_head(temp)\n",
    "        return temp"
   ]
  },
  {
   "cell_type": "code",
   "execution_count": 24,
   "metadata": {},
   "outputs": [],
   "source": [
    "device = torch.device('cuda')\n",
    "model = Model().to(device)"
   ]
  },
  {
   "cell_type": "code",
   "execution_count": 25,
   "metadata": {},
   "outputs": [
    {
     "data": {
      "text/plain": [
       "35353"
      ]
     },
     "execution_count": 25,
     "metadata": {},
     "output_type": "execute_result"
    }
   ],
   "source": [
    "def count_parameters(model):\n",
    "    return sum(p.numel() for p in model.parameters() if p.requires_grad)\n",
    "\n",
    "count_parameters(model)"
   ]
  },
  {
   "cell_type": "code",
   "execution_count": 26,
   "metadata": {},
   "outputs": [
    {
     "name": "stdout",
     "output_type": "stream",
     "text": [
      "torch.Size([128, 30, 1])\n"
     ]
    }
   ],
   "source": [
    "x = torch.randn((128, 10, 1)).to(device)\n",
    "print(model(x).shape)\n",
    "del x"
   ]
  },
  {
   "cell_type": "code",
   "execution_count": 27,
   "metadata": {},
   "outputs": [],
   "source": [
    "criterion = nn.MSELoss()\n",
    "optimizer = torch.optim.Adam(model.parameters(), lr=5e-4)"
   ]
  },
  {
   "cell_type": "code",
   "execution_count": 28,
   "metadata": {},
   "outputs": [
    {
     "name": "stderr",
     "output_type": "stream",
     "text": [
      "Epoch 0: 100%|██████████| 1022/1022 [03:37<00:00,  4.71it/s, loss=0.0509]\n",
      "100%|██████████| 256/256 [00:19<00:00, 12.93it/s, score=-3.47]\n",
      "Epoch 1: 100%|██████████| 1022/1022 [03:37<00:00,  4.71it/s, loss=0.0161]\n",
      "100%|██████████| 256/256 [00:19<00:00, 12.93it/s, score=-1.04]\n",
      "Epoch 2: 100%|██████████| 1022/1022 [03:36<00:00,  4.71it/s, loss=0.011] \n",
      "100%|██████████| 256/256 [00:19<00:00, 12.90it/s, score=-.707]\n",
      "Epoch 3: 100%|██████████| 1022/1022 [03:37<00:00,  4.71it/s, loss=0.00778]\n",
      "100%|██████████| 256/256 [00:19<00:00, 12.96it/s, score=-.633]\n",
      "Epoch 4: 100%|██████████| 1022/1022 [03:37<00:00,  4.69it/s, loss=0.0061] \n",
      "100%|██████████| 256/256 [00:19<00:00, 12.93it/s, score=-.138]\n",
      "Epoch 5: 100%|██████████| 1022/1022 [03:38<00:00,  4.67it/s, loss=0.00519]\n",
      "100%|██████████| 256/256 [00:19<00:00, 12.98it/s, score=0.0708]\n",
      "Epoch 6: 100%|██████████| 1022/1022 [03:36<00:00,  4.71it/s, loss=0.00458]\n",
      "100%|██████████| 256/256 [00:19<00:00, 12.98it/s, score=0.312]\n",
      "Epoch 7: 100%|██████████| 1022/1022 [03:35<00:00,  4.74it/s, loss=0.00376]\n",
      "100%|██████████| 256/256 [00:19<00:00, 13.08it/s, score=0.529]\n",
      "Epoch 8: 100%|██████████| 1022/1022 [03:34<00:00,  4.75it/s, loss=0.00321]\n",
      "100%|██████████| 256/256 [00:19<00:00, 13.07it/s, score=0.633]\n",
      "Epoch 9: 100%|██████████| 1022/1022 [03:36<00:00,  4.72it/s, loss=0.00295]\n",
      "100%|██████████| 256/256 [00:19<00:00, 12.98it/s, score=0.653]\n",
      "Epoch 10: 100%|██████████| 1022/1022 [03:37<00:00,  4.70it/s, loss=0.0025] \n",
      "100%|██████████| 256/256 [00:19<00:00, 12.98it/s, score=0.709]\n",
      "Epoch 11: 100%|██████████| 1022/1022 [03:36<00:00,  4.72it/s, loss=0.00223]\n",
      "100%|██████████| 256/256 [00:19<00:00, 13.00it/s, score=0.741]\n",
      "Epoch 12: 100%|██████████| 1022/1022 [03:38<00:00,  4.68it/s, loss=0.002] \n",
      "100%|██████████| 256/256 [00:19<00:00, 12.94it/s, score=0.772]\n",
      "Epoch 13: 100%|██████████| 1022/1022 [03:41<00:00,  4.61it/s, loss=0.0018]\n",
      "100%|██████████| 256/256 [00:20<00:00, 12.77it/s, score=0.767]\n",
      "Epoch 14: 100%|██████████| 1022/1022 [03:42<00:00,  4.60it/s, loss=0.00172]\n",
      "100%|██████████| 256/256 [00:20<00:00, 12.75it/s, score=0.762]\n",
      "Epoch 15: 100%|██████████| 1022/1022 [03:42<00:00,  4.60it/s, loss=0.00159]\n",
      "100%|██████████| 256/256 [00:20<00:00, 12.69it/s, score=0.781]\n",
      "Epoch 16: 100%|██████████| 1022/1022 [03:42<00:00,  4.60it/s, loss=0.0015]\n",
      "100%|██████████| 256/256 [00:20<00:00, 12.75it/s, score=0.802]\n",
      "Epoch 17: 100%|██████████| 1022/1022 [03:42<00:00,  4.59it/s, loss=0.00146]\n",
      "100%|██████████| 256/256 [00:20<00:00, 12.72it/s, score=0.649]\n",
      "Epoch 18: 100%|██████████| 1022/1022 [03:44<00:00,  4.56it/s, loss=0.00141]\n",
      "100%|██████████| 256/256 [00:20<00:00, 12.80it/s, score=0.825]\n",
      "Epoch 19: 100%|██████████| 1022/1022 [03:41<00:00,  4.60it/s, loss=0.00132]\n",
      "100%|██████████| 256/256 [00:19<00:00, 12.84it/s, score=0.823]\n"
     ]
    }
   ],
   "source": [
    "for epoch in range(20):\n",
    "    running_loss = []\n",
    "    pbar = tqdm(trainloader)\n",
    "    for X, Y in pbar:\n",
    "        X = X.to(device).unsqueeze(2).float()\n",
    "        Y = Y.to(device).float()[:, :20]\n",
    "        optimizer.zero_grad()\n",
    "        pred = model(X).squeeze(2)[:, :20]\n",
    "        loss = criterion(pred, Y)\n",
    "        loss.backward()\n",
    "        optimizer.step()\n",
    "        pbar.set_description(f\"Epoch {epoch}\")\n",
    "        running_loss.append(loss.item())\n",
    "        pbar.set_postfix(loss = sum(running_loss) / len(running_loss))\n",
    "    \n",
    "    with torch.no_grad():\n",
    "        pbar = tqdm(valloader)\n",
    "        scores = []\n",
    "        for X, Y in pbar:\n",
    "            X = X.to(device).unsqueeze(2).float().detach()\n",
    "            Y = Y.to(device).float()[:, :20]\n",
    "            pred = model(X).squeeze(2)[:, :20]\n",
    "            score = r2_score(pred.detach().cpu(), Y.detach().cpu())\n",
    "            scores.append(score)\n",
    "            pbar.set_postfix(score = sum(scores) / len(scores))"
   ]
  },
  {
   "cell_type": "code",
   "execution_count": null,
   "metadata": {},
   "outputs": [],
   "source": [
    "# backup = model\n",
    "#model = backup\n",
    "model_2 = model\n",
    "optimizer = torch.optim.Adam([model_2.cls_net.cls_embeddings], lr=1e-3)"
   ]
  },
  {
   "cell_type": "code",
   "execution_count": null,
   "metadata": {},
   "outputs": [
    {
     "name": "stderr",
     "output_type": "stream",
     "text": [
      "Epoch 0: 100%|██████████| 1022/1022 [03:13<00:00,  5.28it/s, loss=0.0515]\n",
      "100%|██████████| 256/256 [00:19<00:00, 12.96it/s, score=-11.6]\n",
      "Epoch 1: 100%|██████████| 1022/1022 [03:14<00:00,  5.25it/s, loss=0.0329]\n",
      "100%|██████████| 256/256 [00:19<00:00, 13.01it/s, score=-7.76]\n"
     ]
    }
   ],
   "source": [
    "for epoch in range(3):\n",
    "    running_loss = []\n",
    "    pbar = tqdm(trainloader)\n",
    "    for X, Y in pbar:\n",
    "        X = X.to(device).unsqueeze(2).float()\n",
    "        Y = Y.to(device).float()[:, 20:]\n",
    "        optimizer.zero_grad()\n",
    "        pred = model_2(X).squeeze(2)[:, 20:]\n",
    "        loss = criterion(pred, Y)\n",
    "        loss.backward()\n",
    "        optimizer.step()\n",
    "        pbar.set_description(f\"Epoch {epoch}\")\n",
    "        running_loss.append(loss.item())\n",
    "        pbar.set_postfix(loss = sum(running_loss) / len(running_loss))\n",
    "    \n",
    "    with torch.no_grad():\n",
    "        pbar = tqdm(valloader)\n",
    "        scores = []\n",
    "        for X, Y in pbar:\n",
    "            X = X.to(device).unsqueeze(2).float().detach()\n",
    "            Y = Y.to(device).float()[:, 20:]\n",
    "            pred = model_2(X).squeeze(2)[:, 20:]\n",
    "            score = r2_score(pred.detach().cpu(), Y.detach().cpu())\n",
    "            scores.append(score)\n",
    "            pbar.set_postfix(score = sum(scores) / len(scores))"
   ]
  }
 ],
 "metadata": {
  "interpreter": {
   "hash": "73872a7625a445826f9d574d6c0b680d3fefaf18301176724424f6d82d4937fc"
  },
  "kernelspec": {
   "display_name": "Python 3.8.7 ('venv')",
   "language": "python",
   "name": "python3"
  },
  "language_info": {
   "codemirror_mode": {
    "name": "ipython",
    "version": 3
   },
   "file_extension": ".py",
   "mimetype": "text/x-python",
   "name": "python",
   "nbconvert_exporter": "python",
   "pygments_lexer": "ipython3",
   "version": "3.8.7"
  },
  "orig_nbformat": 4
 },
 "nbformat": 4,
 "nbformat_minor": 2
}
