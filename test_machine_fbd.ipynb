{
 "cells": [
  {
   "cell_type": "code",
   "execution_count": 24,
   "metadata": {},
   "outputs": [],
   "source": [
    "from datasets import fuzzy_boolean_dataset\n",
    "import torch.nn as nn\n",
    "from models import simple_machine, cls_machine\n",
    "import torch\n",
    "import torch.optim as optim\n",
    "from tqdm import tqdm\n",
    "from sklearn.metrics import r2_score"
   ]
  },
  {
   "cell_type": "code",
   "execution_count": 25,
   "metadata": {},
   "outputs": [],
   "source": [
    "batch_size = 128"
   ]
  },
  {
   "cell_type": "code",
   "execution_count": 26,
   "metadata": {},
   "outputs": [],
   "source": [
    "dataset = fuzzy_boolean_dataset.FuzzyBooleanDataset('data/fbd.npy')\n",
    "train_len = int( 0.8 * len(dataset) ) \n",
    "val_len = len(dataset) - train_len\n",
    "train_set, val_set = torch.utils.data.random_split(dataset, [train_len, val_len])\n",
    "trainloader = torch.utils.data.DataLoader(train_set, batch_size=batch_size, \\\n",
    "    shuffle=True, num_workers=2)\n",
    "valloader = torch.utils.data.DataLoader(val_set, batch_size=batch_size, \\\n",
    "    shuffle=True, num_workers=2)"
   ]
  },
  {
   "cell_type": "code",
   "execution_count": 27,
   "metadata": {},
   "outputs": [],
   "source": [
    "class Model(nn.Module):\n",
    "    def __init__(self):\n",
    "        super().__init__()\n",
    "        self.backbone = simple_machine.SimpleEncoder(32, 64, 2, 2, 4, 8)\n",
    "        self.cls_net = cls_machine.ClsMachine(self.backbone, 30, 1)\n",
    "        self.reg_head = nn.Linear(32, 1)\n",
    "    \n",
    "    def forward(self, x):\n",
    "        temp = x \n",
    "        temp = self.cls_net(temp)\n",
    "        temp = self.reg_head(temp)\n",
    "        return temp"
   ]
  },
  {
   "cell_type": "code",
   "execution_count": 28,
   "metadata": {},
   "outputs": [],
   "source": [
    "device = torch.device('cuda')\n",
    "model = Model().to(device)"
   ]
  },
  {
   "cell_type": "code",
   "execution_count": 32,
   "metadata": {},
   "outputs": [],
   "source": [
    "criterion = nn.MSELoss()\n",
    "optimizer = torch.optim.Adam(model.parameters(), lr=1e-3)"
   ]
  },
  {
   "cell_type": "code",
   "execution_count": 33,
   "metadata": {},
   "outputs": [
    {
     "name": "stderr",
     "output_type": "stream",
     "text": [
      "Epoch 0: 100%|██████████| 1022/1022 [01:01<00:00, 16.53it/s, loss=0.012] \n",
      "100%|██████████| 256/256 [00:06<00:00, 41.22it/s, score=0.733]\n",
      "Epoch 1: 100%|██████████| 1022/1022 [01:01<00:00, 16.62it/s, loss=0.00148]\n",
      "100%|██████████| 256/256 [00:06<00:00, 41.07it/s, score=0.863]\n",
      "Epoch 2: 100%|██████████| 1022/1022 [01:01<00:00, 16.55it/s, loss=0.000788]\n",
      "100%|██████████| 256/256 [00:06<00:00, 40.87it/s, score=0.911]\n",
      "Epoch 3: 100%|██████████| 1022/1022 [01:01<00:00, 16.62it/s, loss=0.00055] \n",
      "100%|██████████| 256/256 [00:06<00:00, 41.13it/s, score=0.94] \n",
      "Epoch 4: 100%|██████████| 1022/1022 [01:01<00:00, 16.57it/s, loss=0.000419]\n",
      "100%|██████████| 256/256 [00:06<00:00, 41.07it/s, score=0.947]\n",
      "Epoch 5: 100%|██████████| 1022/1022 [01:01<00:00, 16.61it/s, loss=0.000338]\n",
      "100%|██████████| 256/256 [00:06<00:00, 40.95it/s, score=0.966]\n"
     ]
    }
   ],
   "source": [
    "for epoch in range(6):\n",
    "    running_loss = []\n",
    "    pbar = tqdm(trainloader)\n",
    "    for X, Y in pbar:\n",
    "        X = X.to(device).unsqueeze(2).float()\n",
    "        Y = Y.to(device).float()[:, :20]\n",
    "        optimizer.zero_grad()\n",
    "        pred = model(X).squeeze(2)[:, :20]\n",
    "        loss = criterion(pred, Y)\n",
    "        loss.backward()\n",
    "        optimizer.step()\n",
    "        pbar.set_description(f\"Epoch {epoch}\")\n",
    "        running_loss.append(loss.item())\n",
    "        pbar.set_postfix(loss = sum(running_loss) / len(running_loss))\n",
    "    \n",
    "    with torch.no_grad():\n",
    "        pbar = tqdm(valloader)\n",
    "        scores = []\n",
    "        for X, Y in pbar:\n",
    "            X = X.to(device).unsqueeze(2).float().detach()\n",
    "            Y = Y.to(device).float()[:, :20]\n",
    "            pred = model(X).squeeze(2)[:, :20]\n",
    "            score = r2_score(pred.detach().cpu(), Y.detach().cpu())\n",
    "            scores.append(score)\n",
    "            pbar.set_postfix(score = sum(scores) / len(scores))"
   ]
  },
  {
   "cell_type": "code",
   "execution_count": 41,
   "metadata": {},
   "outputs": [],
   "source": [
    "# backup = model\n",
    "#model = backup\n",
    "optimizer = torch.optim.Adam([model.cls_net.cls_embeddings], lr=1e-3)"
   ]
  },
  {
   "cell_type": "code",
   "execution_count": 43,
   "metadata": {},
   "outputs": [
    {
     "name": "stderr",
     "output_type": "stream",
     "text": [
      "Epoch 0: 100%|██████████| 1022/1022 [00:52<00:00, 19.62it/s, loss=0.00653]\n",
      "100%|██████████| 256/256 [00:06<00:00, 40.96it/s, score=0.48] \n",
      "Epoch 1: 100%|██████████| 1022/1022 [00:52<00:00, 19.53it/s, loss=0.00616]\n",
      "100%|██████████| 256/256 [00:06<00:00, 40.88it/s, score=0.545]\n"
     ]
    }
   ],
   "source": [
    "for epoch in range(2):\n",
    "    running_loss = []\n",
    "    pbar = tqdm(trainloader)\n",
    "    for X, Y in pbar:\n",
    "        X = X.to(device).unsqueeze(2).float()\n",
    "        Y = Y.to(device).float()[:, 20:]\n",
    "        optimizer.zero_grad()\n",
    "        pred = model(X).squeeze(2)[:, 20:]\n",
    "        loss = criterion(pred, Y)\n",
    "        loss.backward()\n",
    "        optimizer.step()\n",
    "        pbar.set_description(f\"Epoch {epoch}\")\n",
    "        running_loss.append(loss.item())\n",
    "        pbar.set_postfix(loss = sum(running_loss) / len(running_loss))\n",
    "    \n",
    "    with torch.no_grad():\n",
    "        pbar = tqdm(valloader)\n",
    "        scores = []\n",
    "        for X, Y in pbar:\n",
    "            X = X.to(device).unsqueeze(2).float().detach()\n",
    "            Y = Y.to(device).float()[:, 20:]\n",
    "            pred = model(X).squeeze(2)[:, 20:]\n",
    "            score = r2_score(pred.detach().cpu(), Y.detach().cpu())\n",
    "            scores.append(score)\n",
    "            pbar.set_postfix(score = sum(scores) / len(scores))"
   ]
  }
 ],
 "metadata": {
  "interpreter": {
   "hash": "73872a7625a445826f9d574d6c0b680d3fefaf18301176724424f6d82d4937fc"
  },
  "kernelspec": {
   "display_name": "Python 3.8.7 ('venv')",
   "language": "python",
   "name": "python3"
  },
  "language_info": {
   "codemirror_mode": {
    "name": "ipython",
    "version": 3
   },
   "file_extension": ".py",
   "mimetype": "text/x-python",
   "name": "python",
   "nbconvert_exporter": "python",
   "pygments_lexer": "ipython3",
   "version": "3.8.7"
  },
  "orig_nbformat": 4
 },
 "nbformat": 4,
 "nbformat_minor": 2
}
